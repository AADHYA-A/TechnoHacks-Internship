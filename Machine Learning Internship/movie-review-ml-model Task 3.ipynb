{
  "cells": [
    {
      "cell_type": "markdown",
      "metadata": {
        "id": "2r2jXc3FkUyK"
      },
      "source": [
        "## **Project Name: `Movie Reviews Classification`**\n",
        "## **NAME of Intern : AADHYA A**\n",
        "\n",
        "\n"
      ]
    },
    {
      "cell_type": "markdown",
      "metadata": {
        "id": "79-PecgHspuA"
      },
      "source": [
        "<img src=\"https://popularpittsburgh.com/wp-content/uploads/2015/07/Movie_Review_Banner.jpg\"/>"
      ]
    },
    {
      "cell_type": "code",
      "execution_count": null,
      "metadata": {
        "_cell_guid": "b1076dfc-b9ad-4769-8c92-a6c4dae69d19",
        "_uuid": "8f2839f25d086af736a60e9eeb907d3b93b6e0e5",
        "execution": {
          "iopub.execute_input": "2023-09-18T04:06:14.100098Z",
          "iopub.status.busy": "2023-09-18T04:06:14.099513Z",
          "iopub.status.idle": "2023-09-18T04:06:27.032326Z",
          "shell.execute_reply": "2023-09-18T04:06:27.030938Z",
          "shell.execute_reply.started": "2023-09-18T04:06:14.100062Z"
        },
        "id": "LcAL-WWXkRH3",
        "trusted": true
      },
      "outputs": [],
      "source": [
        "import numpy as np\n",
        "import pandas as pd"
      ]
    },
    {
      "cell_type": "markdown",
      "metadata": {
        "id": "kLQj_WNmkRH-"
      },
      "source": [
        "****Read file****"
      ]
    },
    {
      "cell_type": "code",
      "execution_count": null,
      "metadata": {
        "execution": {
          "iopub.execute_input": "2023-09-18T04:06:27.034861Z",
          "iopub.status.busy": "2023-09-18T04:06:27.034229Z",
          "iopub.status.idle": "2023-09-18T04:06:27.885351Z",
          "shell.execute_reply": "2023-09-18T04:06:27.884442Z",
          "shell.execute_reply.started": "2023-09-18T04:06:27.034826Z"
        },
        "id": "gIXLR7KrkRIB",
        "trusted": true
      },
      "outputs": [],
      "source": [
        "df = pd.read_csv(\"/kaggle/input/word2vec-nlp-tutorial/labeledTrainData.tsv.zip\", delimiter=\"\\t\")"
      ]
    },
    {
      "cell_type": "code",
      "execution_count": null,
      "metadata": {
        "execution": {
          "iopub.execute_input": "2023-09-18T04:06:27.887641Z",
          "iopub.status.busy": "2023-09-18T04:06:27.886771Z",
          "iopub.status.idle": "2023-09-18T04:06:27.911178Z",
          "shell.execute_reply": "2023-09-18T04:06:27.909827Z",
          "shell.execute_reply.started": "2023-09-18T04:06:27.887608Z"
        },
        "id": "5b0M73sjkRIC",
        "outputId": "3599417d-3388-4462-b9c4-cc0aff575701",
        "trusted": true
      },
      "outputs": [
        {
          "data": {
            "text/html": [
              "<div>\n",
              "<style scoped>\n",
              "    .dataframe tbody tr th:only-of-type {\n",
              "        vertical-align: middle;\n",
              "    }\n",
              "\n",
              "    .dataframe tbody tr th {\n",
              "        vertical-align: top;\n",
              "    }\n",
              "\n",
              "    .dataframe thead th {\n",
              "        text-align: right;\n",
              "    }\n",
              "</style>\n",
              "<table border=\"1\" class=\"dataframe\">\n",
              "  <thead>\n",
              "    <tr style=\"text-align: right;\">\n",
              "      <th></th>\n",
              "      <th>id</th>\n",
              "      <th>sentiment</th>\n",
              "      <th>review</th>\n",
              "    </tr>\n",
              "  </thead>\n",
              "  <tbody>\n",
              "    <tr>\n",
              "      <th>0</th>\n",
              "      <td>5814_8</td>\n",
              "      <td>1</td>\n",
              "      <td>With all this stuff going down at the moment w...</td>\n",
              "    </tr>\n",
              "    <tr>\n",
              "      <th>1</th>\n",
              "      <td>2381_9</td>\n",
              "      <td>1</td>\n",
              "      <td>\\The Classic War of the Worlds\\\" by Timothy Hi...</td>\n",
              "    </tr>\n",
              "    <tr>\n",
              "      <th>2</th>\n",
              "      <td>7759_3</td>\n",
              "      <td>0</td>\n",
              "      <td>The film starts with a manager (Nicholas Bell)...</td>\n",
              "    </tr>\n",
              "    <tr>\n",
              "      <th>3</th>\n",
              "      <td>3630_4</td>\n",
              "      <td>0</td>\n",
              "      <td>It must be assumed that those who praised this...</td>\n",
              "    </tr>\n",
              "    <tr>\n",
              "      <th>4</th>\n",
              "      <td>9495_8</td>\n",
              "      <td>1</td>\n",
              "      <td>Superbly trashy and wondrously unpretentious 8...</td>\n",
              "    </tr>\n",
              "  </tbody>\n",
              "</table>\n",
              "</div>"
            ],
            "text/plain": [
              "       id  sentiment                                             review\n",
              "0  5814_8          1  With all this stuff going down at the moment w...\n",
              "1  2381_9          1  \\The Classic War of the Worlds\\\" by Timothy Hi...\n",
              "2  7759_3          0  The film starts with a manager (Nicholas Bell)...\n",
              "3  3630_4          0  It must be assumed that those who praised this...\n",
              "4  9495_8          1  Superbly trashy and wondrously unpretentious 8..."
            ]
          },
          "execution_count": 3,
          "metadata": {},
          "output_type": "execute_result"
        }
      ],
      "source": [
        "df.head()"
      ]
    },
    {
      "cell_type": "code",
      "execution_count": null,
      "metadata": {
        "id": "R4j5LJ5lkRIE"
      },
      "outputs": [],
      "source": [
        "EDA"
      ]
    },
    {
      "cell_type": "code",
      "execution_count": null,
      "metadata": {
        "id": "cUAGi_EvkRIF"
      },
      "outputs": [],
      "source": []
    },
    {
      "cell_type": "code",
      "execution_count": null,
      "metadata": {
        "execution": {
          "iopub.execute_input": "2023-09-18T04:06:27.914746Z",
          "iopub.status.busy": "2023-09-18T04:06:27.914301Z",
          "iopub.status.idle": "2023-09-18T04:06:28.496020Z",
          "shell.execute_reply": "2023-09-18T04:06:28.494817Z",
          "shell.execute_reply.started": "2023-09-18T04:06:27.914691Z"
        },
        "id": "mqu9SM3RkRIG",
        "outputId": "511a2b3c-568b-4b35-a30e-9fb6f4f5f784",
        "trusted": true
      },
      "outputs": [
        {
          "data": {
            "text/plain": [
              "<Axes: xlabel='sentiment', ylabel='count'>"
            ]
          },
          "execution_count": 4,
          "metadata": {},
          "output_type": "execute_result"
        },
        {
          "data": {
            "image/png": "[encoded data removed]",
            "text/plain": [
              "<Figure size 640x480 with 1 Axes>"
            ]
          },
          "metadata": {},
          "output_type": "display_data"
        }
      ],
      "source": [
        "import matplotlib.pyplot as plt\n",
        "import seaborn as sns\n",
        "\n",
        "sns.countplot(x = df[\"sentiment\"], data= df)"
      ]
    },
    {
      "cell_type": "code",
      "execution_count": null,
      "metadata": {
        "execution": {
          "iopub.execute_input": "2023-09-18T04:17:17.638364Z",
          "iopub.status.busy": "2023-09-18T04:17:17.637949Z",
          "iopub.status.idle": "2023-09-18T04:17:17.903444Z",
          "shell.execute_reply": "2023-09-18T04:17:17.902506Z",
          "shell.execute_reply.started": "2023-09-18T04:17:17.638329Z"
        },
        "id": "5HJAdUymkRII",
        "outputId": "73e9d84e-8196-46a5-d10c-4872c0879620",
        "trusted": true
      },
      "outputs": [
        {
          "data": {
            "text/plain": [
              "<Axes: xlabel='count', ylabel='sentiment'>"
            ]
          },
          "execution_count": 26,
          "metadata": {},
          "output_type": "execute_result"
        },
        {
          "data": {
            "image/png": "[encoded data removed]",
            "text/plain": [
              "<Figure size 640x480 with 1 Axes>"
            ]
          },
          "metadata": {},
          "output_type": "display_data"
        }
      ],
      "source": [
        "sns.set_theme(style=\"whitegrid\")\n",
        "sns.countplot(data=df, y=\"sentiment\",color=\"salmon\", facecolor=(0, 0, 0, 0),\n",
        "                   linewidth=5,\n",
        "                   edgecolor=sns.color_palette(\"BrBG\", 2))"
      ]
    },
    {
      "cell_type": "markdown",
      "metadata": {
        "id": "_QLuTqLMkRIJ"
      },
      "source": [
        "**Data PreProcessing**"
      ]
    },
    {
      "cell_type": "code",
      "execution_count": null,
      "metadata": {
        "execution": {
          "iopub.execute_input": "2023-09-18T04:06:28.497414Z",
          "iopub.status.busy": "2023-09-18T04:06:28.497122Z",
          "iopub.status.idle": "2023-09-18T04:06:28.505975Z",
          "shell.execute_reply": "2023-09-18T04:06:28.504718Z",
          "shell.execute_reply.started": "2023-09-18T04:06:28.497390Z"
        },
        "id": "qKhghANVkRIJ",
        "outputId": "60b13312-180c-4c7e-c027-8f2e8838b761",
        "trusted": true
      },
      "outputs": [
        {
          "data": {
            "text/plain": [
              "(25000, 3)"
            ]
          },
          "execution_count": 5,
          "metadata": {},
          "output_type": "execute_result"
        }
      ],
      "source": [
        "df.shape"
      ]
    },
    {
      "cell_type": "code",
      "execution_count": null,
      "metadata": {
        "execution": {
          "iopub.execute_input": "2023-09-18T04:06:28.507838Z",
          "iopub.status.busy": "2023-09-18T04:06:28.507419Z",
          "iopub.status.idle": "2023-09-18T04:06:28.527144Z",
          "shell.execute_reply": "2023-09-18T04:06:28.526065Z",
          "shell.execute_reply.started": "2023-09-18T04:06:28.507799Z"
        },
        "id": "1b1M3pOZkRIK",
        "outputId": "d333d133-5025-4b29-b44f-b33f0ae21785",
        "trusted": true
      },
      "outputs": [
        {
          "data": {
            "text/plain": [
              "id           0\n",
              "sentiment    0\n",
              "review       0\n",
              "dtype: int64"
            ]
          },
          "execution_count": 6,
          "metadata": {},
          "output_type": "execute_result"
        }
      ],
      "source": [
        "df.isnull().sum()"
      ]
    },
    {
      "cell_type": "code",
      "execution_count": null,
      "metadata": {
        "id": "no9wc-g_kRIL"
      },
      "outputs": [],
      "source": [
        "import re\n",
        "import string\n",
        "import nltk\n",
        "from nltk.tokenize import word_tokenize\n",
        "from sklearn.feature_extraction.text import CountVectorizer\n",
        "from sklearn.naive_bayes import GaussianNB\n",
        "from sklearn.ensemble import RandomForestClassifier\n",
        "from xgboost import XGBClassifier"
      ]
    },
    {
      "cell_type": "code",
      "execution_count": null,
      "metadata": {
        "execution": {
          "iopub.execute_input": "2023-09-18T04:06:28.528694Z",
          "iopub.status.busy": "2023-09-18T04:06:28.528382Z",
          "iopub.status.idle": "2023-09-18T04:06:28.538807Z",
          "shell.execute_reply": "2023-09-18T04:06:28.537370Z",
          "shell.execute_reply.started": "2023-09-18T04:06:28.528669Z"
        },
        "id": "v9eV_Hv8kRIL",
        "trusted": true
      },
      "outputs": [],
      "source": [
        "def preprocessing(text):\n",
        "    clean_text = re.sub(r'<.*?>', \"\", text)\n",
        "    clean_text = re.sub(r'https?://\\S+|www\\.\\S+', \"\", clean_text)\n",
        "    clean_text = re.sub(r'[\\d!@#$%^&*()?><:\"|;\\'.]', \"\", clean_text)\n",
        "    clean_text = re.sub(f\"[{re.escape(string.punctuation)}]\", \"\", clean_text)\n",
        "    clean_text = re.sub(re.compile(\"[\"\n",
        "                           u\"\\U0001F600-\\U0001F64F\"\n",
        "                           u\"\\U0001F300-\\U0001F5FF\"\n",
        "                           u\"\\U0001F680-\\U0001F6FF\"\n",
        "                           u\"\\U0001F1E0-\\U0001F1FF\"\n",
        "                           u\"\\U00002702-\\U000027B0\"\n",
        "                           u\"\\U000024C2-\\U0001F251\"\n",
        "                           \"]+\", flags=re.UNICODE), \"\", clean_text)\n",
        "\n",
        "    #clean_text = re.sub(r'\\s+', ' ', clean_text)\n",
        "    clean_text = re.sub(r'\\.\\.\\.', '',  clean_text)\n",
        "    clean_text = re.sub(r'[^a-zA-Z ]', '', clean_text)\n",
        "\n",
        "    return \"\".join(clean_text)"
      ]
    },
    {
      "cell_type": "markdown",
      "metadata": {
        "id": "S7bs5hcakRIM"
      },
      "source": [
        "Train Test"
      ]
    },
    {
      "cell_type": "code",
      "execution_count": null,
      "metadata": {
        "execution": {
          "iopub.execute_input": "2023-09-18T04:06:28.540996Z",
          "iopub.status.busy": "2023-09-18T04:06:28.540383Z",
          "iopub.status.idle": "2023-09-18T04:06:32.456839Z",
          "shell.execute_reply": "2023-09-18T04:06:32.455710Z",
          "shell.execute_reply.started": "2023-09-18T04:06:28.540952Z"
        },
        "id": "UtamqL5tkRIM",
        "trusted": true
      },
      "outputs": [],
      "source": [
        "x_train = df[\"review\"].apply(preprocessing)\n",
        "y_train = df[\"sentiment\"]"
      ]
    },
    {
      "cell_type": "code",
      "execution_count": null,
      "metadata": {
        "execution": {
          "iopub.execute_input": "2023-09-18T04:06:32.459147Z",
          "iopub.status.busy": "2023-09-18T04:06:32.458198Z",
          "iopub.status.idle": "2023-09-18T04:06:32.466616Z",
          "shell.execute_reply": "2023-09-18T04:06:32.465822Z",
          "shell.execute_reply.started": "2023-09-18T04:06:32.459112Z"
        },
        "id": "rH_rdVnxkRIM",
        "outputId": "2ed08ed0-9e75-4cf7-a427-13bd113ec4b2",
        "trusted": true
      },
      "outputs": [
        {
          "data": {
            "text/plain": [
              "0    With all this stuff going down at the moment w...\n",
              "1    The Classic War of the Worlds by Timothy Hines...\n",
              "2    The film starts with a manager Nicholas Bell g...\n",
              "3    It must be assumed that those who praised this...\n",
              "4    Superbly trashy and wondrously unpretentious s...\n",
              "Name: review, dtype: object"
            ]
          },
          "execution_count": 9,
          "metadata": {},
          "output_type": "execute_result"
        }
      ],
      "source": [
        "x_train.head()"
      ]
    },
    {
      "cell_type": "markdown",
      "metadata": {
        "id": "Lf4vE-MAkRIN"
      },
      "source": [
        "TEST data"
      ]
    },
    {
      "cell_type": "code",
      "execution_count": null,
      "metadata": {
        "execution": {
          "iopub.execute_input": "2023-09-18T04:06:32.470239Z",
          "iopub.status.busy": "2023-09-18T04:06:32.469591Z",
          "iopub.status.idle": "2023-09-18T04:06:37.110178Z",
          "shell.execute_reply": "2023-09-18T04:06:37.109310Z",
          "shell.execute_reply.started": "2023-09-18T04:06:32.470205Z"
        },
        "id": "7QS5hRELkRIN",
        "trusted": true
      },
      "outputs": [],
      "source": [
        "test_df = pd.read_csv(\"/kaggle/input/word2vec-nlp-tutorial/testData.tsv.zip\", delimiter=\"\\t\")\n",
        "x_test = test_df[\"review\"].apply(preprocessing)"
      ]
    },
    {
      "cell_type": "code",
      "execution_count": null,
      "metadata": {
        "execution": {
          "iopub.execute_input": "2023-09-18T04:06:37.112220Z",
          "iopub.status.busy": "2023-09-18T04:06:37.111595Z",
          "iopub.status.idle": "2023-09-18T04:06:37.905880Z",
          "shell.execute_reply": "2023-09-18T04:06:37.904920Z",
          "shell.execute_reply.started": "2023-09-18T04:06:37.112188Z"
        },
        "id": "-CkHIIpwkRIN",
        "trusted": true
      },
      "outputs": [],
      "source": [
        "unique_words = set()\n",
        "for i in x_train:\n",
        "    unique_words.update(i.split())\n",
        "\n",
        "vocab = len(unique_words)\n"
      ]
    },
    {
      "cell_type": "code",
      "execution_count": null,
      "metadata": {
        "id": "WZqoAz9QkRIN"
      },
      "outputs": [],
      "source": [
        "from tensorflow.keras.layers import TextVectorization"
      ]
    },
    {
      "cell_type": "code",
      "execution_count": null,
      "metadata": {
        "execution": {
          "iopub.execute_input": "2023-09-18T04:06:37.907956Z",
          "iopub.status.busy": "2023-09-18T04:06:37.907563Z",
          "iopub.status.idle": "2023-09-18T04:06:43.864993Z",
          "shell.execute_reply": "2023-09-18T04:06:43.863929Z",
          "shell.execute_reply.started": "2023-09-18T04:06:37.907922Z"
        },
        "id": "rzPtrLvmkRIO",
        "trusted": true
      },
      "outputs": [],
      "source": [
        "vector = TextVectorization(\n",
        "    max_tokens=10000,\n",
        "    standardize='lower_and_strip_punctuation',\n",
        "    output_mode=\"int\",\n",
        "    output_sequence_length=100,\n",
        "\n",
        "\n",
        ")\n",
        "\n",
        "vector.adapt(x_train, batch_size=32)\n",
        "\n",
        "x_train = vector(x_train)\n",
        "x_test = vector(x_test)"
      ]
    },
    {
      "cell_type": "code",
      "execution_count": null,
      "metadata": {
        "execution": {
          "iopub.execute_input": "2023-09-18T04:06:43.869788Z",
          "iopub.status.busy": "2023-09-18T04:06:43.869416Z",
          "iopub.status.idle": "2023-09-18T04:06:43.876975Z",
          "shell.execute_reply": "2023-09-18T04:06:43.875847Z",
          "shell.execute_reply.started": "2023-09-18T04:06:43.869758Z"
        },
        "id": "vbx7XYQ7kRIO",
        "outputId": "9e6b1d08-629a-49f1-bcfe-6504f208ce69",
        "trusted": true
      },
      "outputs": [
        {
          "data": {
            "text/plain": [
              "TensorShape([25000, 100])"
            ]
          },
          "execution_count": 13,
          "metadata": {},
          "output_type": "execute_result"
        }
      ],
      "source": [
        "x_train.shape"
      ]
    },
    {
      "cell_type": "code",
      "execution_count": null,
      "metadata": {
        "execution": {
          "iopub.execute_input": "2023-09-18T04:06:43.878576Z",
          "iopub.status.busy": "2023-09-18T04:06:43.878257Z",
          "iopub.status.idle": "2023-09-18T04:06:43.893867Z",
          "shell.execute_reply": "2023-09-18T04:06:43.893003Z",
          "shell.execute_reply.started": "2023-09-18T04:06:43.878548Z"
        },
        "id": "pexrluP7kRIO",
        "outputId": "a6c3cfcc-d14e-47ed-dcf8-c81918fe8ff9",
        "trusted": true
      },
      "outputs": [
        {
          "data": {
            "text/plain": [
              "TensorShape([25000, 100])"
            ]
          },
          "execution_count": 14,
          "metadata": {},
          "output_type": "execute_result"
        }
      ],
      "source": [
        "x_test.shape"
      ]
    },
    {
      "cell_type": "code",
      "execution_count": null,
      "metadata": {
        "execution": {
          "iopub.execute_input": "2023-09-18T04:06:43.895928Z",
          "iopub.status.busy": "2023-09-18T04:06:43.894965Z",
          "iopub.status.idle": "2023-09-18T04:06:43.908025Z",
          "shell.execute_reply": "2023-09-18T04:06:43.907066Z",
          "shell.execute_reply.started": "2023-09-18T04:06:43.895897Z"
        },
        "id": "P4XqhJRWkRIO",
        "trusted": true
      },
      "outputs": [],
      "source": [
        "import tensorflow as tf\n",
        "from tensorflow.keras import Sequential\n",
        "from tensorflow.keras.layers import Dense, Flatten, BatchNormalization, Embedding, LSTM,Dropout\n",
        "from tensorflow.keras.losses import BinaryCrossentropy"
      ]
    },
    {
      "cell_type": "code",
      "execution_count": null,
      "metadata": {
        "execution": {
          "iopub.execute_input": "2023-09-18T04:06:43.910354Z",
          "iopub.status.busy": "2023-09-18T04:06:43.909430Z",
          "iopub.status.idle": "2023-09-18T04:13:09.051347Z",
          "shell.execute_reply": "2023-09-18T04:13:09.050188Z",
          "shell.execute_reply.started": "2023-09-18T04:06:43.910320Z"
        },
        "id": "iqA2wZLLkRIP",
        "outputId": "36443180-2c37-4f84-90ce-7737015811f1",
        "trusted": true
      },
      "outputs": [
        {
          "name": "stdout",
          "output_type": "stream",
          "text": [
            "Epoch 1/5\n",
            "782/782 [==============================] - 75s 92ms/step - loss: 0.5193 - accuracy: 0.7285\n",
            "Epoch 2/5\n",
            "782/782 [==============================] - 72s 92ms/step - loss: 0.3359 - accuracy: 0.8644\n",
            "Epoch 3/5\n",
            "782/782 [==============================] - 71s 91ms/step - loss: 0.2725 - accuracy: 0.8950\n",
            "Epoch 4/5\n",
            "782/782 [==============================] - 72s 92ms/step - loss: 0.2331 - accuracy: 0.9124\n",
            "Epoch 5/5\n",
            "782/782 [==============================] - 72s 92ms/step - loss: 0.1818 - accuracy: 0.9327\n"
          ]
        }
      ],
      "source": [
        "model = Sequential([\n",
        "    Embedding(input_dim=10000, output_dim=15, input_length=100),\n",
        "    LSTM(128),\n",
        "    Dense(128, activation=\"relu\"),\n",
        "    Dropout(0.2),\n",
        "    Dense(1, activation=\"sigmoid\"),\n",
        "])\n",
        "\n",
        "model.compile(loss=BinaryCrossentropy(), optimizer=\"adam\", metrics=[\"accuracy\"])\n",
        "hist = model.fit(x_train, y_train, epochs=5)"
      ]
    },
    {
      "cell_type": "code",
      "execution_count": null,
      "metadata": {
        "execution": {
          "iopub.execute_input": "2023-09-18T04:13:09.053571Z",
          "iopub.status.busy": "2023-09-18T04:13:09.053188Z",
          "iopub.status.idle": "2023-09-18T04:13:50.551219Z",
          "shell.execute_reply": "2023-09-18T04:13:50.550095Z",
          "shell.execute_reply.started": "2023-09-18T04:13:09.053539Z"
        },
        "id": "wcjtC4-NkRIP",
        "outputId": "d57aeec7-9f5d-403b-e03c-b665397a47ee",
        "trusted": true
      },
      "outputs": [
        {
          "name": "stdout",
          "output_type": "stream",
          "text": [
            "782/782 [==============================] - 27s 34ms/step\n"
          ]
        }
      ],
      "source": [
        "pred = model.predict(x_test.numpy())\n",
        "pred = np.array([0 if i < 0.5 else 1 for i in pred])"
      ]
    },
    {
      "cell_type": "code",
      "execution_count": null,
      "metadata": {
        "execution": {
          "iopub.execute_input": "2023-09-18T04:13:50.553029Z",
          "iopub.status.busy": "2023-09-18T04:13:50.552613Z",
          "iopub.status.idle": "2023-09-18T04:13:50.563440Z",
          "shell.execute_reply": "2023-09-18T04:13:50.562661Z",
          "shell.execute_reply.started": "2023-09-18T04:13:50.553002Z"
        },
        "id": "1-SF3KE5kRIP",
        "outputId": "0a435a20-fee5-4c52-d90e-987bdac69706",
        "trusted": true
      },
      "outputs": [
        {
          "data": {
            "text/html": [
              "<div>\n",
              "<style scoped>\n",
              "    .dataframe tbody tr th:only-of-type {\n",
              "        vertical-align: middle;\n",
              "    }\n",
              "\n",
              "    .dataframe tbody tr th {\n",
              "        vertical-align: top;\n",
              "    }\n",
              "\n",
              "    .dataframe thead th {\n",
              "        text-align: right;\n",
              "    }\n",
              "</style>\n",
              "<table border=\"1\" class=\"dataframe\">\n",
              "  <thead>\n",
              "    <tr style=\"text-align: right;\">\n",
              "      <th></th>\n",
              "      <th>id</th>\n",
              "      <th>sentiment</th>\n",
              "    </tr>\n",
              "  </thead>\n",
              "  <tbody>\n",
              "    <tr>\n",
              "      <th>0</th>\n",
              "      <td>12311_10</td>\n",
              "      <td>1</td>\n",
              "    </tr>\n",
              "    <tr>\n",
              "      <th>1</th>\n",
              "      <td>8348_2</td>\n",
              "      <td>1</td>\n",
              "    </tr>\n",
              "    <tr>\n",
              "      <th>2</th>\n",
              "      <td>5828_4</td>\n",
              "      <td>0</td>\n",
              "    </tr>\n",
              "    <tr>\n",
              "      <th>3</th>\n",
              "      <td>7186_2</td>\n",
              "      <td>1</td>\n",
              "    </tr>\n",
              "    <tr>\n",
              "      <th>4</th>\n",
              "      <td>12128_7</td>\n",
              "      <td>1</td>\n",
              "    </tr>\n",
              "  </tbody>\n",
              "</table>\n",
              "</div>"
            ],
            "text/plain": [
              "         id  sentiment\n",
              "0  12311_10          1\n",
              "1    8348_2          1\n",
              "2    5828_4          0\n",
              "3    7186_2          1\n",
              "4   12128_7          1"
            ]
          },
          "execution_count": 18,
          "metadata": {},
          "output_type": "execute_result"
        }
      ],
      "source": [
        "submission = pd.DataFrame({'id':test_df['id'],'sentiment':pred})\n",
        "submission.head()"
      ]
    },
    {
      "cell_type": "code",
      "execution_count": null,
      "metadata": {
        "execution": {
          "iopub.execute_input": "2023-09-18T04:13:50.565327Z",
          "iopub.status.busy": "2023-09-18T04:13:50.564467Z",
          "iopub.status.idle": "2023-09-18T04:13:50.612109Z",
          "shell.execute_reply": "2023-09-18T04:13:50.610963Z",
          "shell.execute_reply.started": "2023-09-18T04:13:50.565296Z"
        },
        "id": "I1gCbZJzkRIP",
        "trusted": true
      },
      "outputs": [],
      "source": [
        "submission.to_csv('submission.csv',index=False)"
      ]
    }
  ],
  "metadata": {
    "colab": {
      "provenance": []
    },
    "kernelspec": {
      "display_name": "Python 3",
      "language": "python",
      "name": "python3"
    },
    "language_info": {
      "codemirror_mode": {
        "name": "ipython",
        "version": 3
      },
      "file_extension": ".py",
      "mimetype": "text/x-python",
      "name": "python",
      "nbconvert_exporter": "python",
      "pygments_lexer": "ipython3",
      "version": "3.10.12"
    }
  },
  "nbformat": 4,
  "nbformat_minor": 0
}
